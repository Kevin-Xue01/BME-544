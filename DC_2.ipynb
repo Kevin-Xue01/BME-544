{
 "cells": [
  {
   "cell_type": "markdown",
   "metadata": {},
   "source": [
    "## BME 544 Assignment 3"
   ]
  },
  {
   "cell_type": "code",
   "execution_count": 3,
   "metadata": {},
   "outputs": [],
   "source": [
    "input_file = \"A3_DC_2/raw/ECG_3_Export.txt\"  # Replace with your actual file\n",
    "samples_file = \"A3_DC_2/processed/A87FK0_EMG.txt\"\n",
    "marked_samples_file = \"A3_DC_2/processed/A87FK0_EMG_Peaks.txt\"\n",
    "\n",
    "with open(input_file, \"r\", encoding=\"utf-8\") as infile, open(samples_file, \"w\", encoding=\"utf-8\") as samples_out, open(marked_samples_file, \"w\", encoding=\"utf-8\") as marked_out:\n",
    "    # Read the first line to skip the header\n",
    "    next(infile)\n",
    "\n",
    "    # Write headers to output files\n",
    "    samples_out.write(\"Sample_Index\\tSignal_[mV]\\n\")\n",
    "    marked_out.write(\"Sample_Index\\n\")\n",
    "\n",
    "    # Process each line\n",
    "    for i, line in enumerate(infile):\n",
    "        parts = line.strip().split(\"\\t\")\n",
    "\n",
    "        # Extract sample number (second column) and signal (third column)\n",
    "        # sample_num = parts[1]\n",
    "        signal = parts[2]\n",
    "\n",
    "        # if len(parts) == 3:  # Normal data (3 columns)\n",
    "        samples_out.write(f\"{i}\\t{signal}\\n\")\n",
    "        if len(parts) == 4:  # Line with \"mark\" (4 columns)\n",
    "            marked_out.write(f\"{i}\\n\")"
   ]
  }
 ],
 "metadata": {
  "kernelspec": {
   "display_name": "bme544",
   "language": "python",
   "name": "python3"
  },
  "language_info": {
   "codemirror_mode": {
    "name": "ipython",
    "version": 3
   },
   "file_extension": ".py",
   "mimetype": "text/x-python",
   "name": "python",
   "nbconvert_exporter": "python",
   "pygments_lexer": "ipython3",
   "version": "3.10.16"
  }
 },
 "nbformat": 4,
 "nbformat_minor": 2
}
