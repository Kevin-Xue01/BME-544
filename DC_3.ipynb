{
 "cells": [
  {
   "cell_type": "markdown",
   "metadata": {},
   "source": [
    "## BME 544 DC 3"
   ]
  },
  {
   "cell_type": "code",
   "execution_count": null,
   "metadata": {},
   "outputs": [],
   "source": [
    "import os\n",
    "import librosa\n",
    "import soundfile as sf\n",
    "\n",
    "def resample_wav_files(input_dir, output_dir, target_sr=10000):\n",
    "    \"\"\"\n",
    "    Reads all WAV files from input_dir, resamples to target_sr, and saves them in output_dir.\n",
    "    \"\"\"\n",
    "    if not os.path.exists(output_dir):\n",
    "        os.makedirs(output_dir)\n",
    "    \n",
    "    for file_name in os.listdir(input_dir):\n",
    "        if file_name.lower().endswith(\".wav\"):\n",
    "            input_path = os.path.join(input_dir, file_name)\n",
    "            output_path = os.path.join(output_dir, file_name)\n",
    "            \n",
    "            # Load audio file\n",
    "            audio, sr = librosa.load(input_path, sr=None)  # Load with original sampling rate\n",
    "            \n",
    "            # Resample to target sampling rate\n",
    "            resampled_audio = librosa.resample(audio, orig_sr=sr, target_sr=target_sr)\n",
    "            \n",
    "            # Save resampled audio\n",
    "            sf.write(output_path, resampled_audio, target_sr)\n",
    "            print(f\"Processed: {file_name} (Original SR: {sr} -> Target SR: {target_sr})\")\n",
    "\n",
    "# Example usage\n",
    "input_directory = \"DC_3/trimmed/\"  # Change to your actual input directory\n",
    "output_directory = \"DC_3_resample\"  # Change to your actual output directory\n",
    "resample_wav_files(input_directory, output_directory)"
   ]
  }
 ],
 "metadata": {
  "kernelspec": {
   "display_name": "bme544",
   "language": "python",
   "name": "python3"
  },
  "language_info": {
   "codemirror_mode": {
    "name": "ipython",
    "version": 3
   },
   "file_extension": ".py",
   "mimetype": "text/x-python",
   "name": "python",
   "nbconvert_exporter": "python",
   "pygments_lexer": "ipython3",
   "version": "3.10.16"
  }
 },
 "nbformat": 4,
 "nbformat_minor": 2
}
